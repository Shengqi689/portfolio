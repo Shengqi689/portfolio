{
  "cells": [
    {
      "cell_type": "markdown",
      "metadata": {
        "id": "1WTUYp247P_o"
      },
      "source": [
        "# Assignment 2: Language Modelling in Hangman"
      ]
    },
    {
      "cell_type": "markdown",
      "metadata": {
        "collapsed": true,
        "id": "R3rAk8397P_s"
      },
      "source": [
        "Student Name: Shengqi Ma\n",
        "\n",
        "Student ID: 1262480"
      ]
    },
    {
      "cell_type": "markdown",
      "metadata": {
        "id": "fRYPzbGk7P_t"
      },
      "source": [
        "## General info"
      ]
    },
    {
      "cell_type": "markdown",
      "metadata": {
        "id": "jVxWDdry7P_u"
      },
      "source": [
        "<b>Due date</b>: Thursday, 6 April 2023 1pm\n",
        "\n",
        "<b>Submission method</b>: Canvas submission\n",
        "\n",
        "<b>Submission materials</b>: completed copy of this iPython notebook\n",
        "\n",
        "<b>Late submissions</b>: -10% per day (both week and weekend days counted)\n",
        "\n",
        "<b>Marks</b>: 8% of mark for class (with 7% on correctness + 1% on quality and efficiency of your code)\n",
        "\n",
        "<b>Materials</b>: See \"Using Jupyter Notebook and Python page\" on Canvas (under Modules>Resources) for information on the basic setup required for this class, including an iPython notebook viewer and the python packages NLTK, Numpy, Scipy, Matplotlib, Scikit-Learn, Gensim, Keras and Pytorch. We recommend installing all the data for NLTK, since you will need various parts of it to complete this assignment. You can also use any Python built-in packages, but do not use any other 3rd party packages (the packages listed above are all fine to use); if your iPython notebook doesn't run on the marker's machine, you will lose marks. <b> You should use Python 3.8</b>; libraries/packages should be in their latest version that is compatible with python3.8.  \n",
        "\n",
        "To familiarize yourself with NLTK, here is a free online book:  Steven Bird, Ewan Klein, and Edward Loper (2009). <a href=https://www.nltk.org/book/>Natural Language Processing with Python</a>. O'Reilly Media Inc. You may also consult the <a href=https://www.nltk.org/api/nltk.html>NLTK API</a>.\n",
        "\n",
        "<b>Evaluation</b>: Your iPython notebook should run end-to-end without any errors in a reasonable amount of time, and you must follow all instructions provided below, including specific implementation requirements and instructions for what needs to be printed (please avoid printing output we don't ask for). You should edit the sections below where requested, but leave the rest of the code as is. You should leave the output from running your code in the iPython notebook you submit, to assist with marking. The amount each question is worth is explicitly given. \n",
        "\n",
        "You will be marked not only on the correctness of your methods, but also the quality and efficency of your code: in particular, you should be careful to use Python built-in functions and operators when appropriate and pick descriptive variable names that adhere to <a href=\"https://www.python.org/dev/peps/pep-0008/\">Python style requirements</a>. If you think it might be unclear what you are doing, you should comment your code to help the marker make sense of it.\n",
        "\n",
        "<b>Updates</b>: Any major changes to the assignment will be announced via Canvas. Minor changes and clarifications will be announced on the discussion board; we recommend you check it regularly.\n",
        "\n",
        "<b>Academic misconduct</b>: For most people, collaboration will form a natural part of the undertaking of this homework, and we encourge you to discuss it in general terms with other students. However, this ultimately is still an individual task, and so reuse of code or other instances of clear influence will be considered cheating. We will be checking submissions for originality and will invoke the University’s <a href=\"http://academichonesty.unimelb.edu.au/policy.html\">Academic Misconduct policy</a> where inappropriate levels of collusion or plagiarism are deemed to have taken place. In regards to the use of artificial intelligence tools in the context of academic integrity, please see the university's statement <a href=\"https://academicintegrity.unimelb.edu.au/plagiarism-and-collusion/artificial-intelligence-tools-and-technologies\">here</a>."
      ]
    },
    {
      "cell_type": "markdown",
      "metadata": {
        "id": "ue7YKhso7P_v"
      },
      "source": [
        "# Overview\n",
        "\n",
        "In this homework, you'll be creating an 'artificial intelligence' player for the classic Hangman word guessing game. You will need to implement several different automatic strategies based on character-level n-gram language models. Your objective is to create an automatic player which makes the fewest mistakes."
      ]
    },
    {
      "cell_type": "markdown",
      "metadata": {
        "id": "HIj5VY487P_v"
      },
      "source": [
        "# The Hangman Game (7 marks)"
      ]
    },
    {
      "cell_type": "markdown",
      "metadata": {
        "id": "t7PhA9bU7P_w"
      },
      "source": [
        "**Instructions**: The <a href=\"https://en.wikipedia.org/wiki/Hangman_(game)\">Hangman game</a> is a simple game whereby one person thinks of a word, which they keep secret from their opponent, who tries to guess the word one character at a time. The game ends when the opponent makes more than a fixed number of incorrect guesses, or they figure out the secret word before then (in which case they *win*). \n",
        "\n",
        "Here's a simple version of the game. **No implementation is needed.**"
      ]
    },
    {
      "cell_type": "code",
      "execution_count": 1,
      "metadata": {
        "id": "bzfpG9aG7P_w"
      },
      "outputs": [],
      "source": [
        "def hangman(secret_word, guesser, max_mistakes=8, verbose=True, **guesser_args):\n",
        "    \"\"\"\n",
        "        This function plays the hangman game with the provided guesser and returns the number of incorrect guesses. \n",
        "        \n",
        "        secret_word: a string of lower-case alphabetic characters, i.e., the answer to the game\n",
        "        guesser: a function which guesses the next character at each stage in the game\n",
        "            The function takes a:\n",
        "                mask: what is known of the word, as a string with _ denoting an unknown character\n",
        "                guessed: the set of characters which already been guessed in the game\n",
        "                guesser_args: additional (optional) keyword arguments, i.e., name=value\n",
        "        max_mistakes: limit on length of game, in terms of number of allowed mistakes\n",
        "        verbose: silent or verbose diagnostic prints\n",
        "        guesser_args: keyword arguments to pass directly to the guesser function\n",
        "    \"\"\"\n",
        "    secret_word = secret_word.lower()\n",
        "    mask = ['_'] * len(secret_word)\n",
        "    guessed = set()\n",
        "    if verbose:\n",
        "        print(\"Starting hangman game. Target is\", ' '.join(mask), 'length', len(secret_word))\n",
        "    \n",
        "    mistakes = 0\n",
        "    while mistakes < max_mistakes:\n",
        "        if verbose:\n",
        "            print(\"You have\", (max_mistakes-mistakes), \"attempts remaining.\")\n",
        "        guess = guesser(mask, guessed, **guesser_args)\n",
        "\n",
        "        if verbose:\n",
        "            print('Guess is', guess)\n",
        "        if guess in guessed:\n",
        "            if verbose:\n",
        "                print('Already guessed this before.')\n",
        "            mistakes += 1\n",
        "        else:\n",
        "            guessed.add(guess)\n",
        "            if guess in secret_word and len(guess) == 1:\n",
        "                for i, c in enumerate(secret_word):\n",
        "                    if c == guess:\n",
        "                        mask[i] = c\n",
        "                if verbose:\n",
        "                    print('Good guess:', ' '.join(mask))\n",
        "            else:\n",
        "                if len(guess) != 1:\n",
        "                    print('Please guess with only 1 character.')\n",
        "                if verbose:\n",
        "                    print('Sorry, try again.')\n",
        "                mistakes += 1\n",
        "                \n",
        "        if '_' not in mask:\n",
        "            if verbose:\n",
        "                print('Congratulations, you won.')\n",
        "            return mistakes\n",
        "        \n",
        "    if verbose:\n",
        "        print('Out of guesses. The word was', secret_word)    \n",
        "    return mistakes"
      ]
    },
    {
      "cell_type": "markdown",
      "metadata": {
        "id": "-o-eSB-27P_y"
      },
      "source": [
        "Here is a human guesser allowing interactive play."
      ]
    },
    {
      "cell_type": "code",
      "execution_count": 2,
      "metadata": {
        "id": "RBMIA1V27P_y"
      },
      "outputs": [],
      "source": [
        "def human(mask, guessed, **kwargs):\n",
        "    \"\"\"\n",
        "    This is a simple function for manual play.\n",
        "    \"\"\"\n",
        "    print('\\nEnter your guess:')\n",
        "    return input().lower().strip()"
      ]
    },
    {
      "cell_type": "markdown",
      "metadata": {
        "id": "jMh4cin-7P_z"
      },
      "source": [
        "If you want to play hangman interactively, please set `interactive` to `True`. When submitting your solution, set to `False` so we can automatically run the whole notebook using `Run All`."
      ]
    },
    {
      "cell_type": "code",
      "execution_count": 3,
      "metadata": {
        "id": "uLNrW1DC7P_z"
      },
      "outputs": [],
      "source": [
        "interactive = False"
      ]
    },
    {
      "cell_type": "markdown",
      "metadata": {
        "id": "J2XsKhOP7P_0"
      },
      "source": [
        "<b>For your testing:</b>\n",
        "\n",
        "You can play the game interactively using the following command:"
      ]
    },
    {
      "cell_type": "code",
      "execution_count": 4,
      "metadata": {
        "id": "KO2RtZkJ7P_0"
      },
      "outputs": [],
      "source": [
        "if interactive:\n",
        "    hangman('whatever', human, 8, True)"
      ]
    },
    {
      "cell_type": "markdown",
      "metadata": {
        "collapsed": true,
        "id": "Mf9nYTZB7P_0"
      },
      "source": [
        "### Question 1 (1.0 mark)\n",
        "\n",
        "**Instructions**: We will use the words in NLTK's Brown corpus for training an artificial intelligence guessing algorithm, and for evaluating the quality of the algorithm.\n",
        "\n",
        "Your first task is to compute the number of **unique word types** occurring in the Brown corpus, using `nltk.corpus.brown` and the `words` method, and select only words that are **entirely comprised of alphabetic characters**. You should also **lowercase the words**. Finally, randomly shuffle (`numpy.random.shuffle`) this collection of word types, and split them into disjoint training and testing sets. The test set should contain 1000 word types, and the rest should be in the  training set. Note that we are intentionally making the hangman game hard, as the AI will need to cope with test words that it has not seen before, hence it will need to learn generalisable patterns of characters to make reasonable predictions.\n",
        "\n",
        "**Task**: Collect all unique word types from the Brown corpus, and produce `training_set` and `test_set`, 2 lists that contain 2 disjointed sets of words. Both `training_set` and `test_set` should be a python `list` (as initialised in the code). `test_set` must contain exactly 1000 word types.\n",
        "\n",
        "**Check**: Use the assertion statements in <b>\"For your testing\"</b> below for the expected output."
      ]
    },
    {
      "cell_type": "code",
      "execution_count": 5,
      "metadata": {
        "colab": {
          "base_uri": "https://localhost:8080/"
        },
        "id": "NoWPoUv67P_1",
        "outputId": "38463f1c-8bc6-46a5-a7b5-37144ffef383"
      },
      "outputs": [
        {
          "output_type": "stream",
          "name": "stderr",
          "text": [
            "[nltk_data] Downloading package brown to /root/nltk_data...\n",
            "[nltk_data]   Package brown is already up-to-date!\n"
          ]
        },
        {
          "output_type": "stream",
          "name": "stdout",
          "text": [
            "Number of word types in test = 1000\n",
            "Number of word types in train = 39234\n"
          ]
        }
      ],
      "source": [
        "from re import search\n",
        "from nltk.corpus import brown\n",
        "import numpy as np\n",
        "import nltk\n",
        "nltk.download('brown')\n",
        "np.random.seed(1)\n",
        "\n",
        "# training_set stores the rest word types for training\n",
        "training_set = []\n",
        "# test_set stores 1000 word types for testing\n",
        "test_set = []\n",
        "\n",
        "\n",
        "###\n",
        "# Your answer BEGINS HERE\n",
        "###\n",
        "selected_words = brown.words()\n",
        "# get only words that are entirely comprised of alphabetic characters\n",
        "# first parameter of filter is condition, the second is iterable object\n",
        "selected_words = filter(lambda a: (a.isalpha()),selected_words)\n",
        "# lowercase the words\n",
        "lower_words = []\n",
        "for word in selected_words:\n",
        "  word = word.lower()\n",
        "  lower_words.append(word)\n",
        "selected_words = lower_words\n",
        "# get unique word types\n",
        "selected_words = list(set(selected_words))\n",
        "np.random.shuffle(selected_words)\n",
        "test_set = selected_words[:1000]\n",
        "training_set = selected_words[1000:]\n",
        "\n",
        "###\n",
        "# Your answer ENDS HERE\n",
        "###\n",
        "\n",
        "print(\"Number of word types in test =\", len(test_set))\n",
        "print(\"Number of word types in train =\", len(training_set))"
      ]
    },
    {
      "cell_type": "markdown",
      "metadata": {
        "id": "2tTOd2FL7P_1"
      },
      "source": [
        "<b>For your testing:</b>"
      ]
    },
    {
      "cell_type": "code",
      "execution_count": 6,
      "metadata": {
        "id": "aO9_YgcD7P_1"
      },
      "outputs": [],
      "source": [
        "assert(len(training_set) > 35000 and len(training_set) < 45000)\n",
        "assert(len(test_set) == 1000)"
      ]
    },
    {
      "cell_type": "markdown",
      "metadata": {
        "id": "hCiFj2vd7P_1"
      },
      "source": [
        "**Play the game**:\n",
        "\n",
        "Let's see how good you are at this game! Try to guess a random word from the test set. It is surprisingly difficult (and addictive)! Don't forget to set `interactive = True`."
      ]
    },
    {
      "cell_type": "code",
      "execution_count": 7,
      "metadata": {
        "id": "mVRGVfC67P_2"
      },
      "outputs": [],
      "source": [
        "#play hangman using random words from test set\n",
        "if interactive:\n",
        "    hangman(np.random.choice(test_set), human, 8, True)"
      ]
    },
    {
      "cell_type": "markdown",
      "metadata": {
        "id": "SXAE9_5y7P_2"
      },
      "source": [
        "### Question 2 (1.0 mark)\n",
        "\n",
        "**Instructions**: To set a baseline, your first AI attempt will be a trivial **random method**. For this you should implement a guessing method, similar to the `human` method above, i.e., using the same input arguments and returning a character. Your method should randomly choose a character from the range `a ... z` after excluding the characters that have already been guessed in the current game (all subsequent AI approaches should also exclude previous guesses).\n",
        "\n",
        "To help you measure the performance of this (and later) guesser, a `test_guesser` method that takes a guesser and measures the average number of incorrect guesses made over all the words in the `test` is provided to you. \n",
        "\n",
        "**Task**: Complete the `random_guesser` method. It should return a random character from the English alphabets.\n",
        "\n",
        "**Check**: Use the assertion statements in <b>\"For your testing\"</b> below for the expected output."
      ]
    },
    {
      "cell_type": "code",
      "execution_count": 8,
      "metadata": {
        "id": "iLl_zhfA7P_3"
      },
      "outputs": [],
      "source": [
        "def test_guesser(guesser, test):\n",
        "    \"\"\"\n",
        "        This function takes a guesser and measures the average number of incorrect guesses made over all the words in the test_set. \n",
        "    \"\"\"\n",
        "    total = 0\n",
        "    for word in test:\n",
        "        total += hangman(word, guesser, 26, False)\n",
        "    return total / float(len(test))"
      ]
    },
    {
      "cell_type": "code",
      "execution_count": 9,
      "metadata": {
        "colab": {
          "base_uri": "https://localhost:8080/"
        },
        "id": "rtqT4W7a7P_3",
        "outputId": "6277c201-8e3a-444d-b1f1-d0550af1dff4"
      },
      "outputs": [
        {
          "output_type": "stream",
          "name": "stdout",
          "text": [
            "Guessing word = consenting\n",
            "Number of mistakes made by the random guesser = 13\n",
            "\n",
            "Testing the random guesser using every word in test set\n",
            "Average number of incorrect guesses:  16.571\n"
          ]
        }
      ],
      "source": [
        "def random_guesser(mask, guessed, **kwargs):\n",
        "    \n",
        "    ###\n",
        "    # Your answer BEGINS HERE\n",
        "    ###\n",
        "    import string\n",
        "    letters = string.ascii_lowercase\n",
        "    unguessed_letters = []\n",
        "    for letter in letters:\n",
        "      if not letter in guessed:\n",
        "        unguessed_letters.append(letter)\n",
        "    char = np.random.choice(unguessed_letters)\n",
        "    return char\n",
        "\n",
        "    ###\n",
        "    # Your answer ENDS HERE\n",
        "    ###\n",
        "\n",
        "random_word = np.random.choice(test_set)\n",
        "print(\"Guessing word =\", random_word)\n",
        "print(\"Number of mistakes made by the random guesser =\", hangman(random_word, random_guesser, 26, False))\n",
        "\n",
        "result = test_guesser(random_guesser, test_set)\n",
        "print(\"\\nTesting the random guesser using every word in test set\")\n",
        "print(\"Average number of incorrect guesses: \", result)"
      ]
    },
    {
      "cell_type": "markdown",
      "metadata": {
        "id": "Z1cQQ41g7P_3"
      },
      "source": [
        "<b>For your testing:</b>"
      ]
    },
    {
      "cell_type": "code",
      "execution_count": 10,
      "metadata": {
        "id": "4bf5-2ED7P_4"
      },
      "outputs": [],
      "source": [
        "assert(result > 10 and result < 20)"
      ]
    },
    {
      "cell_type": "markdown",
      "metadata": {
        "id": "-vlDGfrY7P_4"
      },
      "source": [
        "### Question 3 (1.0 mark)\n",
        "\n",
        "**Instructions:** As your first real AI, you should train a **unigram language model** over the training set. This requires you to find the frequencies of characters over all training words. Using this model, you should write a guesser that returns the character with the highest probability. Remember to exclude already guessed characters. \n",
        "\n",
        "**Task**: Collect the frequencies of characters and store them in `unigram_counts` (use the first answer space). Complete the `unigram_guesser` method. Note that it takes `unigram_counts` as an additional argument (use the second answer space).\n",
        "\n",
        "**Check**: Use the assertion statements in <b>\"For your testing\"</b> below for the expected output."
      ]
    },
    {
      "cell_type": "code",
      "execution_count": 11,
      "metadata": {
        "colab": {
          "base_uri": "https://localhost:8080/"
        },
        "id": "Sy2-VJvF7P_4",
        "outputId": "3e43784d-284e-40e1-833c-266b75d9c772"
      },
      "outputs": [
        {
          "output_type": "stream",
          "name": "stdout",
          "text": [
            "Testing the unigram guesser using every word in test set\n",
            "Average number of incorrect guesses:  10.518\n"
          ]
        }
      ],
      "source": [
        "unigram_counts = None\n",
        "\n",
        "###\n",
        "# Your answer BEGINS HERE\n",
        "###\n",
        "unigram_counts = {}\n",
        "# convert training set into a string\n",
        "training_set1 = \"\".join(training_set)\n",
        "for letter in training_set1:\n",
        "  # count frequency of each letter\n",
        "  if letter in unigram_counts:\n",
        "    unigram_counts[letter] += 1\n",
        "  else:\n",
        "    unigram_counts[letter] = 1\n",
        "\n",
        "###\n",
        "# Your answer ENDS HERE\n",
        "###\n",
        "\n",
        "def unigram_guesser(mask, guessed, unigram_counts=unigram_counts):\n",
        "\n",
        "    ###\n",
        "    # Your answer BEGINS HERE\n",
        "    ###\n",
        "    # rank letters of unigram counts from high to low frequency\n",
        "    sorted_unigram_counts = sorted(unigram_counts.items(), key=lambda a: a[1], reverse=True)\n",
        "    dictionary = dict(sorted_unigram_counts)\n",
        "    ranked_letters = dictionary.keys()\n",
        "    # return char\n",
        "    for letter in ranked_letters:\n",
        "      if not letter in guessed:\n",
        "        return letter\n",
        "    ###\n",
        "    # Your answer ENDS HERE\n",
        "    ###\n",
        "\n",
        "result = test_guesser(unigram_guesser, test_set)\n",
        "print(\"Testing the unigram guesser using every word in test set\")\n",
        "print(\"Average number of incorrect guesses: \", result)"
      ]
    },
    {
      "cell_type": "markdown",
      "metadata": {
        "id": "rLdzQ4QC7P_4"
      },
      "source": [
        "<b>For your testing:</b>"
      ]
    },
    {
      "cell_type": "code",
      "execution_count": 12,
      "metadata": {
        "id": "moGEQjem7P_4"
      },
      "outputs": [],
      "source": [
        "assert(result > 5 and result < 15)"
      ]
    },
    {
      "cell_type": "markdown",
      "metadata": {
        "id": "lQj9ZA1O7P_4"
      },
      "source": [
        "### Question 4 (1.0 mark)\n",
        "\n",
        "**Instructions:** The length of the secret word is an important clue that we might exploit. Different lengths tend to have different distributions over characters, e.g., short words are less likely to have suffixes or prefixes. You should incorporate this idea by conditioning the unigram model on the length of the secret word, i.e.,  having a **different unigram model for each length**. You will need to be a little careful at test time, to be robust to the situation that you encounter a word length that you didn't see in training. In such a case, your method should behave like the previous `unigram_guesser` in Question 3 (i.e., it guesses characters based on unigram frequencies, unconditioned by the word length).\n",
        "\n",
        "**Task**: Collect the frequencies of characters conditioned on the word length and store them in `unigram_counts_by_length` (use the first answer space). Complete the `unigram_length_guesser` method (use the second answer space).\n",
        "\n",
        "**Check**: Use the assertion statements in <b>\"For your testing\"</b> below for the expected output."
      ]
    },
    {
      "cell_type": "code",
      "execution_count": 51,
      "metadata": {
        "scrolled": false,
        "colab": {
          "base_uri": "https://localhost:8080/"
        },
        "id": "F8usMOYB7P_5",
        "outputId": "3b8ac9c1-e2e1-4b3e-c024-96c5841fa8c1"
      },
      "outputs": [
        {
          "output_type": "stream",
          "name": "stdout",
          "text": [
            "Testing the length-conditioned unigram guesser using every word in test set\n",
            "Average number of incorrect guesses:  10.491\n"
          ]
        }
      ],
      "source": [
        "unigram_counts_by_length = None\n",
        "\n",
        "###\n",
        "# Your answer BEGINS HERE\n",
        "###\n",
        "from collections import defaultdict, Counter\n",
        "unigram_counts_by_length = {}\n",
        "# default dictionary provides a default value for non_existent keys, it is suitable for our task since words with certain length do not occur in the training set\n",
        "# to increase efficiency of the algorithm, use Counter to count frequencies of letters instead of using for loops like Q3\n",
        "# refer from Python Documentation on Counter objects and defaultdict objects, and notebook 04-ngram from this subject\n",
        "cnt = Counter\n",
        "unigram_counts_by_length = defaultdict(cnt)\n",
        "for word in training_set:\n",
        "  unigram_counts_by_length[len(word)] += cnt(word)\n",
        "\n",
        "\n",
        "###\n",
        "# Your answer ENDS HERE\n",
        "###\n",
        "\n",
        "def unigram_length_guesser(mask, guessed, unigram_counts_by_length=unigram_counts_by_length, unigram_counts=unigram_counts):\n",
        "    ###\n",
        "    # Your answer BEGINS HERE\n",
        "    # different unigram model for each length\n",
        "    if len(mask) in unigram_counts_by_length:\n",
        "      ranked_letters = []\n",
        "      # rank letters from high to low frequency\n",
        "      # refer from Python Documentation on Counter objects\n",
        "      for item in unigram_counts_by_length[len(mask)].most_common():\n",
        "        ranked_letters.append(item[0])\n",
        "      for letter in ranked_letters:\n",
        "        if not letter in guessed:\n",
        "          return letter\n",
        "    # cope with situations where a word length is not in training\n",
        "    return unigram_guesser(mask, guessed, unigram_counts)\n",
        "    ###\n",
        "    # Your answer ENDS HERE\n",
        "    ###\n",
        "\n",
        "result = test_guesser(unigram_length_guesser, test_set)\n",
        "print(\"Testing the length-conditioned unigram guesser using every word in test set\")\n",
        "print(\"Average number of incorrect guesses: \", result)"
      ]
    },
    {
      "cell_type": "markdown",
      "metadata": {
        "id": "vZ2FfF-f7P_5"
      },
      "source": [
        "<b>For your testing:</b>"
      ]
    },
    {
      "cell_type": "code",
      "execution_count": 52,
      "metadata": {
        "id": "18Rz1FKH7P_5"
      },
      "outputs": [],
      "source": [
        "assert(result > 5 and result < 15)"
      ]
    },
    {
      "cell_type": "markdown",
      "metadata": {
        "id": "fiFBeQXL7P_5"
      },
      "source": [
        "### Question 5 (1.0 mark)\n",
        "\n",
        "**Instructions:** Now for the next challenge, you'll build a **bigram language model** over characters. The order of characters is obviously important, yet this wasn't incorporated in any of the above models. Knowing that the word has the sequence `n _ s s` is a pretty strong clue that the missing character might be `e`. Similarly the distribution over characters that start or end a word are highly biased (e.g., toward common prefixes and suffixes, like *un-*, *-ed* and *-ly*).\n",
        "\n",
        "The task here is to develop a bigram language model over characters, and train it over the training words. Remember to be careful when handling the start of each word properly, e.g., by padding with a special starting symbol such as `$`. Do we also need a special ending symbol? That's for you to decide.\n",
        "\n",
        "Your bigram guesser should apply your language model to each blank position in the secret word by using its left context character. For example, in the partial word `e _ c _ b _ _` we know the left context for the first three blanks, but have no known left context for the last blank. In the case for the last blank, you should revert to using a unigram language model (since there's no context for us to use the bigram model). You should sum up the probability distribution (over all alphabets from <i>a</i> to <i>z</i>) for the 4 blanks, and select the alphabet with the highest probability that hasn't been guessed.\n",
        "\n",
        "**Note**:\n",
        "- When backing-off to the unigram language model, you **must use the vanilla unigram language model that you have built in Q3**. Do not use the length-based unigram language model, or any fancy variant, or you will lose marks.\n",
        "- You should build a **standard bigram language model**; i.e. do not do anything complicated like a bidirectional bigram language model.\n",
        "\n",
        "**Task**: Collect frequency counts that are necessary for building a bigram language model and store them in bigram_counts; feel free to add new objects if needed (use the first answer space). Complete the `bigram_guesser` method (use the second answer space). Note that the method currently only has one additional argument (`bigram_counts`), but you are free to add additional arguments."
      ]
    },
    {
      "cell_type": "code",
      "execution_count": 50,
      "metadata": {
        "colab": {
          "base_uri": "https://localhost:8080/"
        },
        "id": "FCy0FpHy7P_5",
        "outputId": "9dcdeba1-d89c-4635-9bea-4e40c7225bab"
      },
      "outputs": [
        {
          "output_type": "stream",
          "name": "stdout",
          "text": [
            "Testing the bigram guesser using every word in test set\n",
            "Average number of incorrect guesses:  12.615\n"
          ]
        }
      ],
      "source": [
        "bigram_counts = None\n",
        "\n",
        "###\n",
        "# Your answer BEGINS HERE\n",
        "###\n",
        "from collections import defaultdict, Counter\n",
        "bigram_counts = {}\n",
        "# refer from Python Documentation on Counter objects and defaultdict objects, and notebook 04-ngram from this subject\n",
        "# cnt counts frequency of each next_letter of a letter\n",
        "cnt = Counter\n",
        "bigram_counts = defaultdict(cnt)\n",
        "new_set = []\n",
        "# make new training set since padding each word with a $\n",
        "for word in training_set:\n",
        "  new_word = \"$\" + word\n",
        "  new_set.append(new_word)\n",
        "# generate dict, which is similar to Q4, except requires one more for loop\n",
        "for word in new_set:\n",
        "  # iterate all pairs of letter and next letter by step size of 1 from index 0 and index 1 accordingly\n",
        "  # refers from notebook 04-ngram in this subject\n",
        "  for letter, next_letter in zip(word[0:-1], word[1:]):\n",
        "    bigram_counts[letter] += cnt(next_letter)\n",
        "###\n",
        "# Your answer ENDS HERE\n",
        "###\n",
        "    \n",
        "\n",
        "def bigram_guesser(mask, guessed, bigram_counts=bigram_counts): # add extra arguments if needed\n",
        "    ###\n",
        "    # Your answer BEGINS HERE\n",
        "    ###\n",
        "    new_mask = [\"$\"] + mask\n",
        "    for letter in bigram_counts:\n",
        "      ranked_letters = []\n",
        "      # rank letters from high to low frequency\n",
        "      # refer from Python Documentation on Counter objects\n",
        "      for item in bigram_counts[letter].most_common():\n",
        "        ranked_letters.append(item[0])\n",
        "      for letter in ranked_letters:\n",
        "        if not letter in guessed:\n",
        "          return letter\n",
        "    return unigram_guesser(mask, guessed, unigram_counts)\n",
        "\n",
        "    ###\n",
        "    # Your answer ENDS HERE\n",
        "    ###\n",
        "\n",
        "\n",
        "\n",
        "result = test_guesser(bigram_guesser, test_set)\n",
        "print(\"Testing the bigram guesser using every word in test set\")\n",
        "print(\"Average number of incorrect guesses: \", result)"
      ]
    },
    {
      "cell_type": "markdown",
      "metadata": {
        "id": "yBiweMXB7P_6"
      },
      "source": [
        "### Question 6 (1.5 mark)\n",
        "\n",
        "**Instructions:** You should try to develop a more effective AI for hangman. Feel free to engage your creativity here! Possibilities include better conditioning on the length of the word, fancier smoothing methods, ngram models and bidirectional models (lecture 8). Have fun!\n",
        "\n",
        "You will be marked based on the performance of your AI model, using a pre-made training and test set (created using a secret seed). Let x be the average number of mistakes in the test set, you will score:\n",
        "* 1.5 mark if x < 7.6\n",
        "* 1.0 mark if 7.6 <= x < 8.0\n",
        "* 0.5 mark if 8.0 <= x < 8.5\n",
        "* 0.0 mark if x >= 8.5\n",
        "\n",
        "Note:\n",
        "* When testing your AI model's performance, you may want to consider trying different training/test splits (using different seeds) to have a better understanding of its performance, as there will be some variance to its performance depending on the training/test split.\n",
        "* Your code must run under 3 minutes on Codalab; program that runs longer than that will be terminated and you will score 0.\n",
        "\n",
        "**Task** Complete the `my_amazing_ai_guesser` method, which implements a better language model for hangman."
      ]
    },
    {
      "cell_type": "code",
      "execution_count": 57,
      "metadata": {
        "colab": {
          "base_uri": "https://localhost:8080/"
        },
        "id": "I5pAoKMx7P_6",
        "outputId": "8f2df365-d7cf-4908-86ba-87fa67007e0f"
      },
      "outputs": [
        {
          "output_type": "stream",
          "name": "stdout",
          "text": [
            "Testing my amazing AI guesser using every word in test set\n",
            "Average number of incorrect guesses:  10.491\n"
          ]
        }
      ],
      "source": [
        "###\n",
        "# Your answer BEGINS HERE\n",
        "###\n",
        "\n",
        "def my_amazing_ai_guesser(mask, guessed):\n",
        "     return unigram_length_guesser(mask, guessed, unigram_counts_by_length, unigram_counts)\n",
        "###\n",
        "# Your answer ENDS HERE\n",
        "###\n",
        "\n",
        "result = test_guesser(my_amazing_ai_guesser, test_set)\n",
        "print(\"Testing my amazing AI guesser using every word in test set\")\n",
        "print(\"Average number of incorrect guesses: \", result)"
      ]
    },
    {
      "cell_type": "markdown",
      "metadata": {
        "id": "7pm201Yl7P_6"
      },
      "source": [
        "### Question 7 (0.5 mark)\n",
        "\n",
        "**Instructions:** Explain your approach and discuss your result below. Please keep your explanation to a short paragraph."
      ]
    },
    {
      "cell_type": "markdown",
      "metadata": {
        "id": "gFVAqKJS7P_6"
      },
      "source": [
        "##### Your answer BEGINS HERE\n",
        "\n",
        "Approach is unigram_length_guesser, result is that average number of incorrect guesses:  10.491. I try to implement bidirectional unigram_length_guesser, as it considers context from both right and left when guessing a character, but did not figure it out. I try to read the training set from both sides, first from left to right, then right to left. I am stuck at integrating results from 2 directions and cannot make an informed prediction.\n",
        "\n",
        "##### Your answer ENDS HERE"
      ]
    },
    {
      "cell_type": "code",
      "execution_count": 58,
      "metadata": {
        "id": "Jk67er_U7P_6"
      },
      "outputs": [],
      "source": [
        "\n"
      ]
    }
  ],
  "metadata": {
    "anaconda-cloud": {},
    "kernelspec": {
      "display_name": "Python 3 (ipykernel)",
      "language": "python",
      "name": "python3"
    },
    "language_info": {
      "codemirror_mode": {
        "name": "ipython",
        "version": 3
      },
      "file_extension": ".py",
      "mimetype": "text/x-python",
      "name": "python",
      "nbconvert_exporter": "python",
      "pygments_lexer": "ipython3",
      "version": "3.9.13"
    },
    "colab": {
      "provenance": [],
      "collapsed_sections": [
        "ue7YKhso7P_v"
      ]
    }
  },
  "nbformat": 4,
  "nbformat_minor": 0
}